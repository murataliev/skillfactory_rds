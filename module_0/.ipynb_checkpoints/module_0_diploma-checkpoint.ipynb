{
 "cells": [
  {
   "cell_type": "code",
   "execution_count": 83,
   "metadata": {
    "scrolled": true
   },
   "outputs": [
    {
     "name": "stdout",
     "output_type": "stream",
     "text": [
      "Ваш алгоритм угадывает число в среднем за 6 попыток\n"
     ]
    },
    {
     "data": {
      "text/plain": [
       "6"
      ]
     },
     "execution_count": 83,
     "metadata": {},
     "output_type": "execute_result"
    }
   ],
   "source": [
    "import numpy as np\n",
    "\n",
    "\n",
    "def game_core_v3(number):\n",
    "    count = 1\n",
    "    predict = np.random.randint(1,101)\n",
    "    lower_interval = [i for i in range(1,51)] #Разбиваем интервал искомых чисел на нижний и верхний.\n",
    "    higher_interval = [i for i in range(51,101)]\n",
    "    while number != predict: #Бесконечный цикл, пока случайное число не совпаст с загаданным.\n",
    "        count+=1 #Добавляем +1 к счетчику попыток.\n",
    "        if predict in lower_interval: #Проверяем, в каком из интервалов находится загаданное число.\n",
    "            number = np.random.choice(lower_interval) #Генерируем случайное число из этого интервала.\n",
    "            length = len(lower_interval) + 1 #Вычисляем длину интервала, в котором находится загаданное число.\n",
    "            higher_interval = lower_interval[length//2:] #Присваиваем верхнему интервалу верхнюю половину нижнего.\n",
    "            lower_interval = lower_interval[0:length//2] #Присваиваем нижнему интервалу нижнюю половину нижнего.\n",
    "        elif predict in higher_interval:\n",
    "            number = np.random.choice(higher_interval)\n",
    "            length = len(higher_interval) + 1 \n",
    "            lower_interval = higher_interval[0:length//2]\n",
    "            higher_interval = higher_interval[length//2:]\n",
    "    return(count) #Постепенно интервал сужается до момента, когда случайное число совпадает с загаданным.\n",
    "\n",
    "\n",
    "def score_game(game_core):\n",
    "    count_ls = []\n",
    "    np.random.seed(1)\n",
    "    random_array = np.random.randint(1,101, size=(1000))\n",
    "    for number in random_array:\n",
    "        count_ls.append(game_core(number))\n",
    "    score = int(np.mean(count_ls))\n",
    "    print(f\"Ваш алгоритм угадывает число в среднем за {score} попыток\")\n",
    "    return(score)\n",
    "\n",
    "\n",
    "score_game(game_core_v3)"
   ]
  }
 ],
 "metadata": {
  "kernelspec": {
   "display_name": "Python 3",
   "language": "python",
   "name": "python3"
  },
  "language_info": {
   "codemirror_mode": {
    "name": "ipython",
    "version": 3
   },
   "file_extension": ".py",
   "mimetype": "text/x-python",
   "name": "python",
   "nbconvert_exporter": "python",
   "pygments_lexer": "ipython3",
   "version": "3.7.6"
  }
 },
 "nbformat": 4,
 "nbformat_minor": 4
}
